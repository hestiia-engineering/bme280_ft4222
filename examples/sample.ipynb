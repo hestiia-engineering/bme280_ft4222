{
 "cells": [
  {
   "cell_type": "code",
   "execution_count": 3,
   "metadata": {},
   "outputs": [],
   "source": [
    "import ft4222\n",
    "import bme280_ft4222\n",
    "import os\n",
    "\n",
    "BME280_DEFAULT_ADDRESS = 0x77\n",
    "BME280_CHIP_ID_REG = 0xD0\n",
    "BME280_CHIP_ID = 0x60\n",
    "\n",
    "try:\n",
    "    ft4222_device.close()\n",
    "except:\n",
    "    pass"
   ]
  },
  {
   "cell_type": "code",
   "execution_count": 4,
   "metadata": {},
   "outputs": [
    {
     "name": "stdout",
     "output_type": "stream",
     "text": [
      "{'index': 0, 'flags': 2, 'type': 10, 'id': 67330076, 'location': 4113, 'serial': b'', 'description': b'FT4222 A', 'handle': 0}\n",
      "FAILED_TO_READ_DEVICE\n",
      "{'index': 1, 'flags': 2, 'type': 10, 'id': 67330076, 'location': 4114, 'serial': b'', 'description': b'FT4222 B', 'handle': 0}\n",
      "Found chip ID = 8 at location 4114\n",
      "No BME280 found at location 4114\n"
     ]
    }
   ],
   "source": [
    "# list devices\n",
    "nbDev = ft4222.createDeviceInfoList()\n",
    "\n",
    "for i in range(nbDev):\n",
    "    device_info = ft4222.getDeviceInfoDetail(i, False)\n",
    "    print(device_info)\n",
    "    device_location = device_info[\"location\"]\n",
    "    try:\n",
    "        ft4222_device = ft4222.openByLocation(device_location)\n",
    "        # Set read and write timeouts to 2 seconds\n",
    "        ft4222_device.setTimeouts(2000, 2000)\n",
    "\n",
    "        # Initialize I2C master at 100kHz\n",
    "        ft4222_device.i2cMaster_Init(100000)\n",
    "        \n",
    "        # Write the register address (BME280_CHIP_ID_REG) to the I2C bus\n",
    "        ft4222_device.i2cMaster_Write(BME280_DEFAULT_ADDRESS, bytearray([BME280_CHIP_ID_REG]))\n",
    "        # Read the chip ID from the I2C bus\n",
    "        chip_id = ft4222_device.i2cMaster_Read(BME280_DEFAULT_ADDRESS, 1)[0]\n",
    "        \n",
    "        print(f\"Found chip ID = {chip_id} at location {device_location}\")\n",
    "\n",
    "        if chip_id == BME280_CHIP_ID:\n",
    "            print(f\"BME280 found at location {device_location}\")\n",
    "        else:\n",
    "            print(f\"No BME280 found at location {device_location}\")\n",
    "    except ft4222.FT2XXDeviceError as e:\n",
    "        print(e)\n",
    "    finally:\n",
    "        try:\n",
    "            ft4222_device.close()\n",
    "        except:\n",
    "            pass\n"
   ]
  },
  {
   "cell_type": "code",
   "execution_count": 5,
   "metadata": {},
   "outputs": [],
   "source": [
    "# Open the I2C co to the BME280 device\n",
    "try:\n",
    "        ft4222_device = ft4222.openByDescription(b'FT4222 A')\n",
    "        # Set read and write timeouts to 2 seconds\n",
    "        ft4222_device.setTimeouts(2000, 2000)\n",
    "        # Initialize I2C master at 100kHz\n",
    "        ft4222_device.i2cMaster_Init(100000)\n",
    "except ft4222.FT2XXDeviceError as e:\n",
    "        print(e)"
   ]
  },
  {
   "cell_type": "code",
   "execution_count": 8,
   "metadata": {},
   "outputs": [
    {
     "name": "stdout",
     "output_type": "stream",
     "text": [
      "compensation_params = {'dig_T1': 28516, 'dig_T2': 26529, 'dig_T3': 50, 'dig_P1': 36015, 'dig_P2': -10700, 'dig_P3': 3024, 'dig_P4': 7908, 'dig_P5': -78, 'dig_P6': -7, 'dig_P7': 9900, 'dig_P8': -10230, 'dig_P9': 4285, 'dig_H1': 75, 'dig_H2': 377, 'dig_H3': 0, 'dig_H4': 284, 'dig_H5': 50, 'dig_H6': 30}\n"
     ]
    }
   ],
   "source": [
    "# Load compensation params\n",
    "compensation_params = bme280_ft4222.load_calibration_params(ft4222_device, BME280_DEFAULT_ADDRESS)\n",
    "print(\"compensation_params = {0}\".format(compensation_params))\n"
   ]
  },
  {
   "cell_type": "code",
   "execution_count": 16,
   "metadata": {},
   "outputs": [
    {
     "name": "stdout",
     "output_type": "stream",
     "text": [
      "uncompensated_reading(temp=0x000847F0, pressure=0x00052B50, humidity=0x0000733F, block=52:B5:00:84:7F:00:73:3F)\n",
      "compensated_reading(id=d7551038-7ffa-47c6-ae91-da822c9569a1, timestamp=2023-04-28 17:01:38.967218UTC, temp=27.343 °C, pressure=1015.34 hPa, humidity=65.24 % rH)\n"
     ]
    }
   ],
   "source": [
    "# Take a reading\n",
    "\n",
    "# compensated_reading object\n",
    "data = bme280_ft4222.sample(ft4222_device, BME280_DEFAULT_ADDRESS)\n",
    "\n",
    "# the compensated_reading class has the following attributes:\n",
    "#\n",
    "#   data.id\n",
    "#   data.timestamp\n",
    "#   data.temperature\n",
    "#   data.pressure\n",
    "#   data.humidity\n",
    "#   data.uncompensated\n",
    "\n",
    "print(data.uncompensated)\n",
    "\n",
    "# there is a handy string representation too\n",
    "print(data)"
   ]
  }
 ],
 "metadata": {
  "kernelspec": {
   "display_name": "Python 3",
   "language": "python",
   "name": "python3"
  },
  "language_info": {
   "codemirror_mode": {
    "name": "ipython",
    "version": 3
   },
   "file_extension": ".py",
   "mimetype": "text/x-python",
   "name": "python",
   "nbconvert_exporter": "python",
   "pygments_lexer": "ipython3",
   "version": "3.11.3"
  },
  "orig_nbformat": 4
 },
 "nbformat": 4,
 "nbformat_minor": 2
}
